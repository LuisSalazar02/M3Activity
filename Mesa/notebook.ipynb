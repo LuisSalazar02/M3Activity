{
 "cells": [
  {
   "cell_type": "code",
   "execution_count": null,
   "metadata": {},
   "outputs": [
    {
     "name": "stderr",
     "output_type": "stream",
     "text": [
      "/Users/luissalazar/Documents/Tec/Quinto semestre/Materia/Multiagents/M3Activity/Mesa/city_model/model.py:59: FutureWarning: The new PropertyLayer and _PropertyGrid classes experimental. It may be changed or removed in any and all future releases, including patch releases.\n",
      "We would love to hear what you think about this new feature. If you have any thoughts, share them with us here: https://github.com/projectmesa/mesa/discussions/1932\n",
      "  self.structure_layer = mesa.space.PropertyLayer(\"structure\", self.width, self.height, np.float64(0))\n",
      "/Users/luissalazar/Documents/Tec/Quinto semestre/Materia/Multiagents/M3Activity/.venv/lib/python3.12/site-packages/mesa/space.py:185: UserWarning: Random number generator not specified, this can make models non-reproducible. Please pass a random number generator explicitly\n",
      "  return AgentSet(agents, random=rng)\n",
      "Component react.component(mesa.visualization.components.matplotlib_components.SpaceMatplotlib) raised exception IndexError('too many indices for array: array is 1-dimensional, but 2 were indexed')\n",
      "Traceback (most recent call last):\n",
      "  File \"/Users/luissalazar/Documents/Tec/Quinto semestre/Materia/Multiagents/M3Activity/.venv/lib/python3.12/site-packages/reacton/core.py\", line 1707, in _render\n",
      "    root_element = el.component.f(*el.args, **el.kwargs)\n",
      "                   ^^^^^^^^^^^^^^^^^^^^^^^^^^^^^^^^^^^^^\n",
      "  File \"/Users/luissalazar/Documents/Tec/Quinto semestre/Materia/Multiagents/M3Activity/.venv/lib/python3.12/site-packages/mesa/visualization/components/matplotlib_components.py\", line 82, in SpaceMatplotlib\n",
      "    draw_space(\n",
      "  File \"/Users/luissalazar/Documents/Tec/Quinto semestre/Materia/Multiagents/M3Activity/.venv/lib/python3.12/site-packages/mesa/visualization/mpl_space_drawing.py\", line 144, in draw_space\n",
      "    draw_orthogonal_grid(space, agent_portrayal, ax=ax, **space_drawing_kwargs)\n",
      "  File \"/Users/luissalazar/Documents/Tec/Quinto semestre/Materia/Multiagents/M3Activity/.venv/lib/python3.12/site-packages/mesa/visualization/mpl_space_drawing.py\", line 275, in draw_orthogonal_grid\n",
      "    _scatter(ax, arguments, **kwargs)\n",
      "  File \"/Users/luissalazar/Documents/Tec/Quinto semestre/Materia/Multiagents/M3Activity/.venv/lib/python3.12/site-packages/mesa/visualization/mpl_space_drawing.py\", line 563, in _scatter\n",
      "    x = loc[:, 0]\n",
      "        ~~~^^^^^^\n",
      "IndexError: too many indices for array: array is 1-dimensional, but 2 were indexed\n"
     ]
    },
    {
     "data": {
      "application/vnd.jupyter.widget-view+json": {
       "model_id": "167d22dc087d468ca1fd10bd9641a86c",
       "version_major": 2,
       "version_minor": 0
      },
      "text/html": [
       "Cannot show widget. You probably want to rerun the code cell above (<i>Click in the code cell, and press Shift+Enter <kbd>⇧</kbd>+<kbd>↩</kbd></i>)."
      ],
      "text/plain": [
       "Cannot show ipywidgets in text"
      ]
     },
     "metadata": {},
     "output_type": "display_data"
    }
   ],
   "source": [
    "import mesa\n",
    "\n",
    "from mesa.visualization import SolaraViz, make_plot_component, make_space_component\n",
    "\n",
    "# Import the local MoneyModel.py\n",
    "from city_model.model import CityModel\n",
    "from city_model.agents import CarAgent, SemaphoreAgent\n",
    "\n",
    "def agent_portrayal(agent):\n",
    "    return {\n",
    "        \"color\": \"tab:orange\",\n",
    "        \"size\": 50,\n",
    "    }\n",
    "\n",
    "model_params = {\n",
    "    \"car_count\": 5\n",
    "}\n",
    "\n",
    "model1 = CityModel(car_count= 5, seed=None)\n",
    "\n",
    "proplayer_portrayal ={\"structure\":{\"color\":\"deepskyblue\", \"colorbar\": False}}\n",
    "\n",
    "\n",
    "SpaceGraph = make_space_component(agent_portrayal, propertylayer_portrayal=proplayer_portrayal)\n",
    "\n",
    "page = SolaraViz(\n",
    "    model1,\n",
    "    components=[SpaceGraph],\n",
    "    model_params=model_params,\n",
    "    name=\"City Model\",\n",
    ")\n",
    "# This is required to render the visualization in the Jupyter notebook\n",
    "page"
   ]
  }
 ],
 "metadata": {
  "kernelspec": {
   "display_name": ".venv",
   "language": "python",
   "name": "python3"
  },
  "language_info": {
   "codemirror_mode": {
    "name": "ipython",
    "version": 3
   },
   "file_extension": ".py",
   "mimetype": "text/x-python",
   "name": "python",
   "nbconvert_exporter": "python",
   "pygments_lexer": "ipython3",
   "version": "3.12.6"
  }
 },
 "nbformat": 4,
 "nbformat_minor": 2
}
