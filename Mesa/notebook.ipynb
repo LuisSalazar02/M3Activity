{
 "cells": [
  {
   "cell_type": "code",
   "execution_count": null,
   "metadata": {},
   "outputs": [],
   "source": [
    "import mesa\n",
    "\n",
    "from mesa.visualization import SolaraViz, make_plot_component, make_space_component\n",
    "\n",
    "# Import the local MoneyModel.py\n",
    "from city_model.model import CityModel\n",
    "from city_model.agents import CarAgent, SemaphoreAgent\n",
    "\n",
    "def agent_portrayal(agent):\n",
    "    return {\n",
    "        \"color\": \"tab:orange\",\n",
    "        \"size\": 50,\n",
    "    }\n",
    "\n",
    "model_params = {\n",
    "    \"car_count\": 5\n",
    "}\n",
    "\n",
    "model1 = CityModel(car_count= 5, seed=None)\n",
    "\n",
    "proplayer_portrayal ={\"structure\":{\"color\":\"deepskyblue\", \"colorbar\": False}, \"parking_spot\":{\"color\":\"yellow\", \"colorbar\": False}, \"semaphore\":{\"color\":\"red\", \"colorbar\": False}}\n",
    "\n",
    "\n",
    "SpaceGraph = make_space_component(agent_portrayal, propertylayer_portrayal=proplayer_portrayal)\n",
    "\n",
    "page = SolaraViz(\n",
    "    model1,\n",
    "    components=[SpaceGraph],\n",
    "    model_params=model_params,\n",
    "    name=\"City Model\",\n",
    ")\n",
    "# This is required to render the visualization in the Jupyter notebook\n",
    "page"
   ]
  }
 ],
 "metadata": {
  "kernelspec": {
   "display_name": ".venv",
   "language": "python",
   "name": "python3"
  },
  "language_info": {
   "codemirror_mode": {
    "name": "ipython",
    "version": 3
   },
   "file_extension": ".py",
   "mimetype": "text/x-python",
   "name": "python",
   "nbconvert_exporter": "python",
   "pygments_lexer": "ipython3",
   "version": "3.12.6"
  }
 },
 "nbformat": 4,
 "nbformat_minor": 2
}
