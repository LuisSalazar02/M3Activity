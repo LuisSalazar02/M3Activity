{
 "cells": [
  {
   "cell_type": "code",
   "execution_count": null,
   "metadata": {},
   "outputs": [
    {
     "name": "stderr",
     "output_type": "stream",
     "text": [
      "/Users/rodrigocolin/Desktop/Tec/Quinto Semestre/Agentes Inteligentes/M3Activity/M3Activity/city_model/model.py:53: UserWarning: Default value 0.0 (float64) might not be best suitable with dtype=int64.\n",
      "  self.structure_layer = mesa.space.PropertyLayer(\"structure\",self.width, self.height,np.float64(0), np.int64)\n",
      "/Users/rodrigocolin/Desktop/Tec/Quinto Semestre/Agentes Inteligentes/M3Activity/M3Activity/city_model/model.py:53: FutureWarning: The new PropertyLayer and _PropertyGrid classes experimental. It may be changed or removed in any and all future releases, including patch releases.\n",
      "We would love to hear what you think about this new feature. If you have any thoughts, share them with us here: https://github.com/projectmesa/mesa/discussions/1932\n",
      "  self.structure_layer = mesa.space.PropertyLayer(\"structure\",self.width, self.height,np.float64(0), np.int64)\n",
      "/Users/rodrigocolin/Desktop/Tec/Quinto Semestre/Agentes Inteligentes/M3Activity/M3Activity/city_model/model.py:54: UserWarning: Default value 0.0 (float64) might not be best suitable with dtype=int64.\n",
      "  self.semaphore_layer = mesa.space.PropertyLayer(\"semaphore\", self.width, self.height, np.float64(0), np.int64)\n"
     ]
    },
    {
     "data": {
      "application/vnd.jupyter.widget-view+json": {
       "model_id": "d7453301c7444741a15229d62d49bd9b",
       "version_major": 2,
       "version_minor": 0
      },
      "text/html": [
       "Cannot show widget. You probably want to rerun the code cell above (<i>Click in the code cell, and press Shift+Enter <kbd>⇧</kbd>+<kbd>↩</kbd></i>)."
      ],
      "text/plain": [
       "Cannot show ipywidgets in text"
      ]
     },
     "metadata": {},
     "output_type": "display_data"
    },
    {
     "name": "stderr",
     "output_type": "stream",
     "text": [
      "'AgentSet' object has no attribute 'moving'\n",
      "Traceback (most recent call last):\n",
      "  File \"/Users/rodrigocolin/Desktop/Tec/Quinto Semestre/Agentes Inteligentes/M3Activity/M3Activity/.venv/lib/python3.13/site-packages/solara/tasks.py\", line 259, in runner\n",
      "    self._last_value = value = await self.function(*args, **kwargs)\n",
      "                               ^^^^^^^^^^^^^^^^^^^^^^^^^^^^^^^^^^^^\n",
      "  File \"/Users/rodrigocolin/Desktop/Tec/Quinto Semestre/Agentes Inteligentes/M3Activity/M3Activity/.venv/lib/python3.13/site-packages/mesa/visualization/solara_viz.py\", line 197, in step\n",
      "    do_step()\n",
      "    ~~~~~~~^^\n",
      "  File \"/Users/rodrigocolin/Desktop/Tec/Quinto Semestre/Agentes Inteligentes/M3Activity/M3Activity/.venv/lib/python3.13/site-packages/mesa/visualization/solara_viz.py\", line 205, in do_step\n",
      "    model.value.step()\n",
      "    ~~~~~~~~~~~~~~~~^^\n",
      "  File \"/Users/rodrigocolin/Desktop/Tec/Quinto Semestre/Agentes Inteligentes/M3Activity/M3Activity/.venv/lib/python3.13/site-packages/mesa/model.py\", line 113, in _wrapped_step\n",
      "    self._user_step(*args, **kwargs)\n",
      "    ~~~~~~~~~~~~~~~^^^^^^^^^^^^^^^^^\n",
      "  File \"/Users/rodrigocolin/Desktop/Tec/Quinto Semestre/Agentes Inteligentes/M3Activity/M3Activity/city_model/model.py\", line 75, in step\n",
      "    self.agents_by_type[CarAgent].shuffle_do(\"move\")\n",
      "    ~~~~~~~~~~~~~~~~~~~~~~~~~~~~~~~~~~~~~~~~^^^^^^^^\n",
      "  File \"/Users/rodrigocolin/Desktop/Tec/Quinto Semestre/Agentes Inteligentes/M3Activity/M3Activity/.venv/lib/python3.13/site-packages/mesa/agent.py\", line 322, in shuffle_do\n",
      "    getattr(agent, method)(*args, **kwargs)\n",
      "    ~~~~~~~~~~~~~~~~~~~~~~^^^^^^^^^^^^^^^^^\n",
      "  File \"/Users/rodrigocolin/Desktop/Tec/Quinto Semestre/Agentes Inteligentes/M3Activity/M3Activity/city_model/agents.py\", line 83, in move\n",
      "    semaphores.moving[\"car_counter\"] += 1\n",
      "    ^^^^^^^^^^^^^^^^^\n",
      "AttributeError: 'AgentSet' object has no attribute 'moving'\n",
      "Component react.component(mesa.visualization.solara_viz.ModelController) raised exception AttributeError(\"'AgentSet' object has no attribute 'moving'\")\n",
      "Traceback (most recent call last):\n",
      "  File \"/Users/rodrigocolin/Desktop/Tec/Quinto Semestre/Agentes Inteligentes/M3Activity/M3Activity/.venv/lib/python3.13/site-packages/reacton/core.py\", line 1707, in _render\n",
      "    root_element = el.component.f(*el.args, **el.kwargs)\n",
      "  File \"/Users/rodrigocolin/Desktop/Tec/Quinto Semestre/Agentes Inteligentes/M3Activity/M3Activity/.venv/lib/python3.13/site-packages/mesa/visualization/solara_viz.py\", line 199, in ModelController\n",
      "    solara.lab.use_task(\n",
      "    ~~~~~~~~~~~~~~~~~~~^\n",
      "        step, dependencies=[playing.value, running.value], prefer_threaded=False\n",
      "        ^^^^^^^^^^^^^^^^^^^^^^^^^^^^^^^^^^^^^^^^^^^^^^^^^^^^^^^^^^^^^^^^^^^^^^^^\n",
      "    )\n",
      "    ^\n",
      "  File \"/Users/rodrigocolin/Desktop/Tec/Quinto Semestre/Agentes Inteligentes/M3Activity/M3Activity/.venv/lib/python3.13/site-packages/solara/tasks.py\", line 846, in use_task\n",
      "    return wrapper(f)\n",
      "  File \"/Users/rodrigocolin/Desktop/Tec/Quinto Semestre/Agentes Inteligentes/M3Activity/M3Activity/.venv/lib/python3.13/site-packages/solara/tasks.py\", line 840, in wrapper\n",
      "    raise task_instance.exception\n",
      "  File \"/Users/rodrigocolin/Desktop/Tec/Quinto Semestre/Agentes Inteligentes/M3Activity/M3Activity/.venv/lib/python3.13/site-packages/solara/tasks.py\", line 259, in runner\n",
      "    self._last_value = value = await self.function(*args, **kwargs)\n",
      "                               ^^^^^^^^^^^^^^^^^^^^^^^^^^^^^^^^^^^^\n",
      "  File \"/Users/rodrigocolin/Desktop/Tec/Quinto Semestre/Agentes Inteligentes/M3Activity/M3Activity/.venv/lib/python3.13/site-packages/mesa/visualization/solara_viz.py\", line 197, in step\n",
      "    do_step()\n",
      "    ~~~~~~~^^\n",
      "  File \"/Users/rodrigocolin/Desktop/Tec/Quinto Semestre/Agentes Inteligentes/M3Activity/M3Activity/.venv/lib/python3.13/site-packages/mesa/visualization/solara_viz.py\", line 205, in do_step\n",
      "    model.value.step()\n",
      "    ~~~~~~~~~~~~~~~~^^\n",
      "  File \"/Users/rodrigocolin/Desktop/Tec/Quinto Semestre/Agentes Inteligentes/M3Activity/M3Activity/.venv/lib/python3.13/site-packages/mesa/model.py\", line 113, in _wrapped_step\n",
      "    self._user_step(*args, **kwargs)\n",
      "    ~~~~~~~~~~~~~~~^^^^^^^^^^^^^^^^^\n",
      "  File \"/Users/rodrigocolin/Desktop/Tec/Quinto Semestre/Agentes Inteligentes/M3Activity/M3Activity/city_model/model.py\", line 75, in step\n",
      "    self.agents_by_type[CarAgent].shuffle_do(\"move\")\n",
      "    ~~~~~~~~~~~~~~~~~~~~~~~~~~~~~~~~~~~~~~~~^^^^^^^^\n",
      "  File \"/Users/rodrigocolin/Desktop/Tec/Quinto Semestre/Agentes Inteligentes/M3Activity/M3Activity/.venv/lib/python3.13/site-packages/mesa/agent.py\", line 322, in shuffle_do\n",
      "    getattr(agent, method)(*args, **kwargs)\n",
      "    ~~~~~~~~~~~~~~~~~~~~~~^^^^^^^^^^^^^^^^^\n",
      "  File \"/Users/rodrigocolin/Desktop/Tec/Quinto Semestre/Agentes Inteligentes/M3Activity/M3Activity/city_model/agents.py\", line 83, in move\n",
      "    semaphores.moving[\"car_counter\"] += 1\n",
      "    ^^^^^^^^^^^^^^^^^\n",
      "AttributeError: 'AgentSet' object has no attribute 'moving'\n"
     ]
    },
    {
     "name": "stdout",
     "output_type": "stream",
     "text": [
      "Hello\n"
     ]
    }
   ],
   "source": [
    "import mesa\n",
    "\n",
    "from mesa.visualization import SolaraViz, make_space_component\n",
    "import matplotlib\n",
    "\n",
    "# Import the local MoneyModel.py\n",
    "from city_model.model import CityModel\n",
    "from city_model.agents import CarAgent, SemaphoreAgent\n",
    "\n",
    "def agent_portrayal(agent):\n",
    "    return {\n",
    "        \"color\": \"tab:orange\",\n",
    "        \"size\": 50,\n",
    "    }\n",
    "\n",
    "model_params = {\n",
    "    \"car_count\": 5\n",
    "}\n",
    "\n",
    "model1 = CityModel(car_count= 5, seed=None)\n",
    "\n",
    "CustomCmap = matplotlib.colors.ListedColormap(((0,0,0,0), \"green\", \"red\", \"yellow\"))\n",
    "Custom = matplotlib.colors.ListedColormap(((0,0,0,0), \"deepskyblue\"))\n",
    "\n",
    "proplayer_portrayal ={\"structure\":{\"colormap\":Custom, \"colorbar\": False}, \"semaphore\":{\"colormap\": CustomCmap, \"colorbar\": False}}\n",
    "\n",
    "\n",
    "SpaceGraph = make_space_component(agent_portrayal, propertylayer_portrayal=proplayer_portrayal)\n",
    "\n",
    "page = SolaraViz(\n",
    "    model1,\n",
    "    components=[SpaceGraph],\n",
    "    model_params=model_params,\n",
    "    name=\"City Model\",\n",
    ")\n",
    "# This is required to render the visualization in the Jupyter notebook\n",
    "page"
   ]
  },
  {
   "cell_type": "code",
   "execution_count": 2,
   "metadata": {},
   "outputs": [
    {
     "name": "stdout",
     "output_type": "stream",
     "text": [
      "[[0 0 0 0 0 0 0 3 0 0 0 0]\n",
      " [0 0 0 0 0 0 0 3 0 0 0 0]\n",
      " [0 0 0 0 0 3 3 0 0 0 0 0]\n",
      " [0 0 0 0 0 0 0 0 0 0 0 0]\n",
      " [3 3 0 0 0 0 0 0 0 0 0 0]\n",
      " [0 0 3 0 0 0 0 3 0 0 0 0]\n",
      " [0 0 3 0 0 0 0 3 0 0 0 0]\n",
      " [0 0 0 0 0 3 3 0 0 0 0 0]\n",
      " [0 0 0 0 0 0 0 0 0 0 0 0]\n",
      " [0 0 0 0 0 0 0 0 0 0 0 0]\n",
      " [0 0 0 0 0 0 0 0 0 0 0 0]\n",
      " [0 0 0 0 0 0 0 0 0 0 0 0]]\n"
     ]
    },
    {
     "name": "stderr",
     "output_type": "stream",
     "text": [
      "/Users/rodrigocolin/Desktop/Tec/Quinto Semestre/Agentes Inteligentes/M3Activity/M3Activity/city_model/model.py:53: UserWarning: Default value 0.0 (float64) might not be best suitable with dtype=int64.\n",
      "  self.structure_layer = mesa.space.PropertyLayer(\"structure\",self.width, self.height,np.float64(0), np.int64)\n",
      "/Users/rodrigocolin/Desktop/Tec/Quinto Semestre/Agentes Inteligentes/M3Activity/M3Activity/city_model/model.py:54: UserWarning: Default value 0.0 (float64) might not be best suitable with dtype=int64.\n",
      "  self.semaphore_layer = mesa.space.PropertyLayer(\"semaphore\", self.width, self.height, np.float64(0), np.int64)\n"
     ]
    }
   ],
   "source": [
    "model = CityModel(5)\n",
    "\n",
    "print(model.grid.properties[\"semaphore\"].data)"
   ]
  }
 ],
 "metadata": {
  "kernelspec": {
   "display_name": ".venv",
   "language": "python",
   "name": "python3"
  },
  "language_info": {
   "codemirror_mode": {
    "name": "ipython",
    "version": 3
   },
   "file_extension": ".py",
   "mimetype": "text/x-python",
   "name": "python",
   "nbconvert_exporter": "python",
   "pygments_lexer": "ipython3",
   "version": "3.13.0"
  }
 },
 "nbformat": 4,
 "nbformat_minor": 2
}
