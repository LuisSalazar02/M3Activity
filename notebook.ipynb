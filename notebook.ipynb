{
 "cells": [
  {
   "cell_type": "code",
   "execution_count": 1,
   "metadata": {},
   "outputs": [
    {
     "name": "stderr",
     "output_type": "stream",
     "text": [
      "/Users/luissalazar/Documents/Tec/Quinto semestre/Materia/Multiagents/M3Activity/city_model/model.py:49: UserWarning: Default value 0.0 (float64) might not be best suitable with dtype=int64.\n",
      "  self.structure_layer = mesa.space.PropertyLayer(\"structure\",self.width, self.height,np.float64(0), np.int64)\n",
      "/Users/luissalazar/Documents/Tec/Quinto semestre/Materia/Multiagents/M3Activity/city_model/model.py:49: FutureWarning: The new PropertyLayer and _PropertyGrid classes experimental. It may be changed or removed in any and all future releases, including patch releases.\n",
      "We would love to hear what you think about this new feature. If you have any thoughts, share them with us here: https://github.com/projectmesa/mesa/discussions/1932\n",
      "  self.structure_layer = mesa.space.PropertyLayer(\"structure\",self.width, self.height,np.float64(0), np.int64)\n",
      "/Users/luissalazar/Documents/Tec/Quinto semestre/Materia/Multiagents/M3Activity/city_model/model.py:50: UserWarning: Default value 0.0 (float64) might not be best suitable with dtype=int64.\n",
      "  self.semaphore_layer = mesa.space.PropertyLayer(\"semaphore\", self.width, self.height, np.float64(0), np.int64)\n"
     ]
    },
    {
     "data": {
      "application/vnd.jupyter.widget-view+json": {
       "model_id": "e6533a43d58e41cd935fb8c8ef2e3abe",
       "version_major": 2,
       "version_minor": 0
      },
      "text/html": [
       "Cannot show widget. You probably want to rerun the code cell above (<i>Click in the code cell, and press Shift+Enter <kbd>⇧</kbd>+<kbd>↩</kbd></i>)."
      ],
      "text/plain": [
       "Cannot show ipywidgets in text"
      ]
     },
     "metadata": {},
     "output_type": "display_data"
    }
   ],
   "source": [
    "import mesa\n",
    "\n",
    "from mesa.visualization import SolaraViz, make_space_component\n",
    "import matplotlib\n",
    "\n",
    "# Import the local MoneyModel.py\n",
    "from city_model.model import CityModel\n",
    "from city_model.agents import CarAgent, SemaphoreAgent\n",
    "\n",
    "def agent_portrayal(agent):\n",
    "    return {\n",
    "        \"color\": \"tab:orange\",\n",
    "        \"size\": 50,\n",
    "    }\n",
    "\n",
    "model_params = {\n",
    "    \"car_count\": 3\n",
    "}\n",
    "\n",
    "model1 = CityModel(car_count= 3, seed=None)\n",
    "\n",
    "CustomCmap = matplotlib.colors.ListedColormap(((0,0,0,0), \"green\", \"red\", \"yellow\"))\n",
    "Custom = matplotlib.colors.ListedColormap(((0,0,0,0), \"deepskyblue\"))\n",
    "\n",
    "proplayer_portrayal ={\"structure\":{\"colormap\":Custom, \"colorbar\": False}, \"semaphore\":{\"colormap\": CustomCmap, \"colorbar\": False}}\n",
    "\n",
    "\n",
    "SpaceGraph = make_space_component(agent_portrayal, propertylayer_portrayal=proplayer_portrayal)\n",
    "\n",
    "page = SolaraViz(\n",
    "    model1,\n",
    "    components=[SpaceGraph],\n",
    "    model_params=model_params,\n",
    "    name=\"City Model\",\n",
    ")\n",
    "# This is required to render the visualization in the Jupyter notebook\n",
    "page"
   ]
  }
 ],
 "metadata": {
  "kernelspec": {
   "display_name": ".venv",
   "language": "python",
   "name": "python3"
  },
  "language_info": {
   "codemirror_mode": {
    "name": "ipython",
    "version": 3
   },
   "file_extension": ".py",
   "mimetype": "text/x-python",
   "name": "python",
   "nbconvert_exporter": "python",
   "pygments_lexer": "ipython3",
   "version": "3.12.6"
  }
 },
 "nbformat": 4,
 "nbformat_minor": 2
}
